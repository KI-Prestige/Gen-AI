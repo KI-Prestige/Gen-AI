{
 "cells": [
  {
   "cell_type": "markdown",
   "id": "c541884a-ad51-4b14-8c28-b0978be871c8",
   "metadata": {},
   "source": [
    "#  ROCK, PAPER, SCISSORS"
   ]
  },
  {
   "cell_type": "code",
   "execution_count": 1,
   "id": "be47f0f8-0383-492c-b442-544e179ce76d",
   "metadata": {},
   "outputs": [],
   "source": [
    "import random\n",
    "\n",
    "def user_input():\n",
    "    '''This is a function that takes a user input for Rock, Paper, Scissors represented as r,p,s respectively.\n",
    "        The function returns the input selected by the user.'''\n",
    "    while True:\n",
    "        user_input= input('Enter r for Rock, p for Paper or s for Scissors:').lower()\n",
    "        if user_input in ['r', 'p', 's']:\n",
    "            return user_input\n",
    "        else:\n",
    "            print(\"wrong input, please enter 'r', 'p' or 's'.\")\n",
    "\n",
    "def computer_input():\n",
    "    comp_input= ['r', 'p', 's']\n",
    "    return random.choice(comp_input)\n",
    "\n",
    "def game_winner(user_input, computer_input):\n",
    "    if user_input== computer_input:\n",
    "        return 'its a tie'\n",
    "    elif (user_input== 'r' and computer_input== 's') or \\\n",
    "         (user_input== 'p' and computer_input== 'r') or \\\n",
    "         (user_input== 's' and computer_input== 'p'):\n",
    "        return 'Congrats. You win!'\n",
    "    else:\n",
    "        return 'Ouch! You lose'\n",
    "\n",
    "def play_game():\n",
    "    user= user_input()\n",
    "    computer= computer_input()\n",
    "    print('my choice:', user)\n",
    "    print('computer choice:', computer)\n",
    "    print(game_winner(user, computer))"
   ]
  },
  {
   "cell_type": "code",
   "execution_count": 2,
   "id": "4c00df15-ae93-4ea4-8acd-ddb5da75725d",
   "metadata": {},
   "outputs": [
    {
     "name": "stdin",
     "output_type": "stream",
     "text": [
      "Enter r for Rock, p for Paper or s for Scissors: p\n"
     ]
    },
    {
     "name": "stdout",
     "output_type": "stream",
     "text": [
      "my choice: p\n",
      "computer choice: r\n",
      "Congrats. You win!\n"
     ]
    }
   ],
   "source": [
    "play_game()"
   ]
  },
  {
   "cell_type": "markdown",
   "id": "990d6456-ea9d-4376-ba6b-ee06286808e4",
   "metadata": {},
   "source": [
    "# TIC TAC TOE"
   ]
  },
  {
   "cell_type": "code",
   "execution_count": 3,
   "id": "6c1f30cb-1acc-46bc-aa86-f64fdc728843",
   "metadata": {},
   "outputs": [],
   "source": [
    "def create_board():\n",
    "    return [[' ' for _ in range(3)] for _ in range(3)]\n",
    "\n",
    "def print_board(board):\n",
    "    for row in board:\n",
    "        print('|'.join(row))\n",
    "        print('-' * 5)\n",
    "\n",
    "def check_winner(board, player):\n",
    "    for row in board:\n",
    "        if all(cell == player for cell in row):\n",
    "            return True\n",
    "\n",
    "    for col in range(3):\n",
    "        if all(board[row][col] == player for row in range(3)):\n",
    "            return True\n",
    "\n",
    "    if all(board[i][i] == player for i in range(3)) or all(board[i][2-i]== player for i in range(3)):\n",
    "\n",
    "        return True\n",
    "\n",
    "    return False\n",
    "\n",
    "def check_tie(board):\n",
    "    for row in board:\n",
    "        for cell in row:\n",
    "            if cell== ' ':\n",
    "                return False\n",
    "    return True\n",
    "\n",
    "def empty_cells(board):\n",
    "    empty_cells= []\n",
    "    for i in range(3):\n",
    "        for j in range(3):\n",
    "            if board[i][j] == ' ':\n",
    "                empty_cells.append((i,j))\n",
    "\n",
    "    return empty_cells\n",
    "     \n",
    "def agent_move(board):\n",
    "    empty= empty_cells(board)\n",
    "    row, col= random.choice(empty)\n",
    "    return row, col\n",
    "\n",
    "\n",
    "def game_play():\n",
    "    board= create_board()\n",
    "    player= 'X'\n",
    "\n",
    "    while True:\n",
    "        print_board(board)\n",
    "\n",
    "        if player== 'X':\n",
    "            row, col= map(int, input('Play your choice(row, col):').split(','))\n",
    "        else:\n",
    "            row, col= agent_move(board)\n",
    "            print('Agent move:', (row,col))\n",
    "\n",
    "        if board[row][col] != ' ':\n",
    "                    print(\"Wrong choice. Try again.\")\n",
    "                    continue\n",
    "\n",
    "        board[row][col] = player\n",
    "\n",
    "        if check_winner(board, player):\n",
    "            print_board(board)\n",
    "            print(f\"{player} wins!\")\n",
    "            break\n",
    "\n",
    "        if check_tie(board):\n",
    "            print_board(board)\n",
    "            print(\"It's a tie!\")\n",
    "            break\n",
    "\n",
    "        player = 'O' if player == 'X' else 'X'"
   ]
  },
  {
   "cell_type": "code",
   "execution_count": 4,
   "id": "dc3114c6-181d-417d-a631-f71d8dacb747",
   "metadata": {},
   "outputs": [
    {
     "name": "stdout",
     "output_type": "stream",
     "text": [
      " | | \n",
      "-----\n",
      " | | \n",
      "-----\n",
      " | | \n",
      "-----\n"
     ]
    },
    {
     "name": "stdin",
     "output_type": "stream",
     "text": [
      "Play your choice(row, col): 1,2\n"
     ]
    },
    {
     "name": "stdout",
     "output_type": "stream",
     "text": [
      " | | \n",
      "-----\n",
      " | |X\n",
      "-----\n",
      " | | \n",
      "-----\n",
      "Agent move: (0, 2)\n",
      " | |O\n",
      "-----\n",
      " | |X\n",
      "-----\n",
      " | | \n",
      "-----\n"
     ]
    },
    {
     "name": "stdin",
     "output_type": "stream",
     "text": [
      "Play your choice(row, col): 1,1\n"
     ]
    },
    {
     "name": "stdout",
     "output_type": "stream",
     "text": [
      " | |O\n",
      "-----\n",
      " |X|X\n",
      "-----\n",
      " | | \n",
      "-----\n",
      "Agent move: (0, 0)\n",
      "O| |O\n",
      "-----\n",
      " |X|X\n",
      "-----\n",
      " | | \n",
      "-----\n"
     ]
    },
    {
     "name": "stdin",
     "output_type": "stream",
     "text": [
      "Play your choice(row, col): 1,0\n"
     ]
    },
    {
     "name": "stdout",
     "output_type": "stream",
     "text": [
      "O| |O\n",
      "-----\n",
      "X|X|X\n",
      "-----\n",
      " | | \n",
      "-----\n",
      "X wins!\n"
     ]
    }
   ],
   "source": [
    "game_play()"
   ]
  },
  {
   "cell_type": "code",
   "execution_count": null,
   "id": "f2a68f2c-6185-4d47-9dca-43c231ca21c7",
   "metadata": {},
   "outputs": [],
   "source": []
  }
 ],
 "metadata": {
  "kernelspec": {
   "display_name": "Python 3 (ipykernel)",
   "language": "python",
   "name": "python3"
  },
  "language_info": {
   "codemirror_mode": {
    "name": "ipython",
    "version": 3
   },
   "file_extension": ".py",
   "mimetype": "text/x-python",
   "name": "python",
   "nbconvert_exporter": "python",
   "pygments_lexer": "ipython3",
   "version": "3.12.7"
  }
 },
 "nbformat": 4,
 "nbformat_minor": 5
}
