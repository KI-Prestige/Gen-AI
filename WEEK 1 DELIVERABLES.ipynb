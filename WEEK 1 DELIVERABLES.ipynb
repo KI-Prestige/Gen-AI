{
 "cells": [
  {
   "cell_type": "markdown",
   "id": "c541884a-ad51-4b14-8c28-b0978be871c8",
   "metadata": {},
   "source": [
    "#  ROCK, PAPER, SCISSORS"
   ]
  },
  {
   "cell_type": "code",
   "execution_count": 1,
   "id": "be47f0f8-0383-492c-b442-544e179ce76d",
   "metadata": {},
   "outputs": [],
   "source": [
    "import random\n",
    "\n",
    "def user_input():\n",
    "    '''\n",
    "    This is a function that takes a user input for Rock, Paper, Scissors represented as r,p,s respectively.\n",
    "    The function returns the input selected by the user.\n",
    "    '''\n",
    "    while True:\n",
    "        user_input= input('Enter r for Rock, p for Paper or s for Scissors:').lower()\n",
    "        if user_input in ['r', 'p', 's']:\n",
    "            return user_input\n",
    "        else:\n",
    "            print(\"wrong input, please enter 'r', 'p' or 's'.\")\n",
    "\n",
    "def computer_input():\n",
    "    '''\n",
    "    This is a function that generates and returns a random choice of r,p,s for the computer.\n",
    "    '''\n",
    "    comp_input= ['r', 'p', 's']\n",
    "    return random.choice(comp_input)\n",
    "\n",
    "def game_winner(user_input, computer_input):\n",
    "    '''\n",
    "    This is a function that takes in the choice of the user as well as the choice randomly generated for the computer.\n",
    "    The function determines whether the game play ends in a win, tie or lose.\n",
    "    The function returns the result obtained at the end of every game\n",
    "    '''\n",
    "    if user_input== computer_input:\n",
    "        return 'its a tie'\n",
    "    elif (user_input== 'r' and computer_input== 's') or \\\n",
    "         (user_input== 'p' and computer_input== 'r') or \\\n",
    "         (user_input== 's' and computer_input== 'p'):\n",
    "        return 'Congrats. You win!'\n",
    "    else:\n",
    "        return 'Ouch! You lose'\n",
    "\n",
    "def play_game():\n",
    "    '''\n",
    "    This is a function that initiates the game of rock paper scissors.\n",
    "    The function prompts the user to make a choice and randomly selects an option for the computer.\n",
    "    The function prints the result of the game based on the criteria from the previous function\n",
    "    '''\n",
    "    user= user_input()\n",
    "    computer= computer_input()\n",
    "    print('my choice:', user)\n",
    "    print('computer choice:', computer)\n",
    "    print(game_winner(user, computer))"
   ]
  },
  {
   "cell_type": "code",
   "execution_count": 2,
   "id": "4c00df15-ae93-4ea4-8acd-ddb5da75725d",
   "metadata": {},
   "outputs": [
    {
     "name": "stdin",
     "output_type": "stream",
     "text": [
      "Enter r for Rock, p for Paper or s for Scissors: p\n"
     ]
    },
    {
     "name": "stdout",
     "output_type": "stream",
     "text": [
      "my choice: p\n",
      "computer choice: r\n",
      "Congrats. You win!\n"
     ]
    }
   ],
   "source": [
    "play_game()"
   ]
  },
  {
   "cell_type": "markdown",
   "id": "990d6456-ea9d-4376-ba6b-ee06286808e4",
   "metadata": {},
   "source": [
    "# TIC TAC TOE"
   ]
  },
  {
   "cell_type": "code",
   "execution_count": 3,
   "id": "6c1f30cb-1acc-46bc-aa86-f64fdc728843",
   "metadata": {},
   "outputs": [],
   "source": [
    "def create_board():\n",
    "    '''\n",
    "    This is a function that returns a 2D 3 by 3 matrix to serve as the board for a tic tac toe game.\n",
    "    The function creates a list of lists with 3 rows and 3 columns.\n",
    "    '''\n",
    "    return [[' ' for _ in range(3)] for _ in range(3)]\n",
    "\n",
    "def print_board(board):\n",
    "    '''\n",
    "    This function takes in the board created and concatenates the rows together using a string object.\n",
    "    It separates the column using another string object\n",
    "    The function prints out the board to be used for a tic tac toe game.\n",
    "    '''\n",
    "    for row in board:\n",
    "        print('|'.join(row))\n",
    "        print('-' * 5)\n",
    "\n",
    "def check_winner(board, player):\n",
    "    '''\n",
    "    This function takes in the board created and the players of the game.\n",
    "    It checks various criterias for winning a tic tac toe game.\n",
    "    It returns True if the the criterias are met\n",
    "    '''\n",
    "    for row in board:\n",
    "        if all(cell == player for cell in row):\n",
    "            return True\n",
    "\n",
    "    for col in range(3):\n",
    "        if all(board[row][col] == player for row in range(3)):\n",
    "            return True\n",
    "\n",
    "    if all(board[i][i] == player for i in range(3)) or all(board[i][2-i]== player for i in range(3)):\n",
    "\n",
    "        return True\n",
    "\n",
    "    return False\n",
    "\n",
    "def check_tie(board):\n",
    "    '''\n",
    "    This function takes in the board and checks if all the spaces on the board are filled.\n",
    "    The function checks if the game ended in a tie.\n",
    "    If there are no spaces left and the criteria for winning has not been met  it returns true.\n",
    "    Otherwise it returns false\n",
    "    '''\n",
    "    for row in board:\n",
    "        for cell in row:\n",
    "            if cell== ' ':\n",
    "                return False\n",
    "    return True\n",
    "\n",
    "def empty_cells(board):\n",
    "    '''\n",
    "    This function takes in the board.\n",
    "    It checks for all the empty cells on the board.\n",
    "    It returns a list of the empty cells to enable the computer make a random choice\n",
    "    '''\n",
    "    empty_cells= []\n",
    "    for i in range(3):\n",
    "        for j in range(3):\n",
    "            if board[i][j] == ' ':\n",
    "                empty_cells.append((i,j))\n",
    "\n",
    "    return empty_cells\n",
    "     \n",
    "def agent_move(board):\n",
    "    '''\n",
    "    This function takes in the board.\n",
    "    It checks for empty cells and makes a random choice for the computer using the coordinates of the empty cell.\n",
    "    It returns the coordinate of the empty cell\n",
    "    '''\n",
    "    empty= empty_cells(board)\n",
    "    row, col= random.choice(empty)\n",
    "    return row, col\n",
    "\n",
    "\n",
    "def game_play():\n",
    "    '''\n",
    "    This function initiates the game play for tic tac toe.\n",
    "    It creates and displays the board with options for the player to choose coordinates\n",
    "    It randomly selects the coordinate for the computer and checks the criteria for win, tie and lose.\n",
    "    It returns the result of the game.\n",
    "    '''\n",
    "    board= create_board()\n",
    "    player= 'X'\n",
    "\n",
    "    while True:\n",
    "        print_board(board)\n",
    "\n",
    "        if player== 'X':\n",
    "            row, col= map(int, input('Play your choice(row, col):').split(','))\n",
    "        else:\n",
    "            row, col= agent_move(board)\n",
    "            print('Agent move:', (row,col))\n",
    "\n",
    "        if board[row][col] != ' ':\n",
    "                    print(\"Wrong choice. Try again.\")\n",
    "                    continue\n",
    "\n",
    "        board[row][col] = player\n",
    "\n",
    "        if check_winner(board, player):\n",
    "            print_board(board)\n",
    "            print(f\"{player} wins!\")\n",
    "            break\n",
    "\n",
    "        if check_tie(board):\n",
    "            print_board(board)\n",
    "            print(\"It's a tie!\")\n",
    "            break\n",
    "\n",
    "        player = 'O' if player == 'X' else 'X'"
   ]
  },
  {
   "cell_type": "code",
   "execution_count": 4,
   "id": "dc3114c6-181d-417d-a631-f71d8dacb747",
   "metadata": {},
   "outputs": [
    {
     "name": "stdout",
     "output_type": "stream",
     "text": [
      " | | \n",
      "-----\n",
      " | | \n",
      "-----\n",
      " | | \n",
      "-----\n"
     ]
    },
    {
     "name": "stdin",
     "output_type": "stream",
     "text": [
      "Play your choice(row, col): 1,2\n"
     ]
    },
    {
     "name": "stdout",
     "output_type": "stream",
     "text": [
      " | | \n",
      "-----\n",
      " | |X\n",
      "-----\n",
      " | | \n",
      "-----\n",
      "Agent move: (0, 2)\n",
      " | |O\n",
      "-----\n",
      " | |X\n",
      "-----\n",
      " | | \n",
      "-----\n"
     ]
    },
    {
     "name": "stdin",
     "output_type": "stream",
     "text": [
      "Play your choice(row, col): 1,1\n"
     ]
    },
    {
     "name": "stdout",
     "output_type": "stream",
     "text": [
      " | |O\n",
      "-----\n",
      " |X|X\n",
      "-----\n",
      " | | \n",
      "-----\n",
      "Agent move: (0, 0)\n",
      "O| |O\n",
      "-----\n",
      " |X|X\n",
      "-----\n",
      " | | \n",
      "-----\n"
     ]
    },
    {
     "name": "stdin",
     "output_type": "stream",
     "text": [
      "Play your choice(row, col): 1,0\n"
     ]
    },
    {
     "name": "stdout",
     "output_type": "stream",
     "text": [
      "O| |O\n",
      "-----\n",
      "X|X|X\n",
      "-----\n",
      " | | \n",
      "-----\n",
      "X wins!\n"
     ]
    }
   ],
   "source": [
    "game_play()"
   ]
  },
  {
   "cell_type": "code",
   "execution_count": null,
   "id": "f2a68f2c-6185-4d47-9dca-43c231ca21c7",
   "metadata": {},
   "outputs": [],
   "source": []
  }
 ],
 "metadata": {
  "kernelspec": {
   "display_name": "Python 3 (ipykernel)",
   "language": "python",
   "name": "python3"
  },
  "language_info": {
   "codemirror_mode": {
    "name": "ipython",
    "version": 3
   },
   "file_extension": ".py",
   "mimetype": "text/x-python",
   "name": "python",
   "nbconvert_exporter": "python",
   "pygments_lexer": "ipython3",
   "version": "3.12.7"
  }
 },
 "nbformat": 4,
 "nbformat_minor": 5
}
